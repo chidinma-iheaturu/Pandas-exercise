{
 "cells": [
  {
   "cell_type": "markdown",
   "metadata": {},
   "source": [
    "\n",
    "\n",
    "# Pandas DataFrame exercises\n"
   ]
  },
  {
   "cell_type": "code",
   "execution_count": 16,
   "metadata": {},
   "outputs": [
    {
     "name": "stdout",
     "output_type": "stream",
     "text": [
      "1.5.3\n"
     ]
    }
   ],
   "source": [
    "# Import the numpy package under the name np\n",
    "import numpy as np\n",
    "\n",
    "# Import the pandas package under the name pd\n",
    "import pandas as pd\n",
    "\n",
    "# Import the matplotlib package under the name plt\n",
    "import matplotlib.pyplot as plt\n",
    "%matplotlib inline\n",
    "\n",
    "# Print the pandas version and the configuration\n",
    "print(pd.__version__)\n",
    "\n",
    "from datetime import datetime"
   ]
  },
  {
   "cell_type": "markdown",
   "metadata": {},
   "source": [
    "\n",
    "\n",
    "## DataFrame creation"
   ]
  },
  {
   "cell_type": "markdown",
   "metadata": {},
   "source": [
    "### Create an empty pandas DataFrame\n"
   ]
  },
  {
   "cell_type": "code",
   "execution_count": 2,
   "metadata": {},
   "outputs": [
    {
     "name": "stdout",
     "output_type": "stream",
     "text": [
      "Empty DataFrame\n",
      "Columns: []\n",
      "Index: []\n"
     ]
    }
   ],
   "source": [
    "# your code goes here\n",
    "empty_df = pd.DataFrame()\n",
    "print(empty_df)"
   ]
  },
  {
   "cell_type": "markdown",
   "metadata": {},
   "source": [
    "<img width=400 src=\"https://cdn.dribbble.com/users/4678/screenshots/1986600/avengers.png\"></img>"
   ]
  },
  {
   "cell_type": "markdown",
   "metadata": {},
   "source": [
    "\n",
    "\n",
    "### Create a `marvel_df` pandas DataFrame with the given marvel data\n"
   ]
  },
  {
   "cell_type": "code",
   "execution_count": 3,
   "metadata": {},
   "outputs": [],
   "source": [
    "marvel_data = [\n",
    "    ['Spider-Man', 'male', 1962],\n",
    "    ['Captain America', 'male', 1941],\n",
    "    ['Wolverine', 'male', 1974],\n",
    "    ['Iron Man', 'male', 1963],\n",
    "    ['Thor', 'male', 1963],\n",
    "    ['Thing', 'male', 1961],\n",
    "    ['Mister Fantastic', 'male', 1961],\n",
    "    ['Hulk', 'male', 1962],\n",
    "    ['Beast', 'male', 1963],\n",
    "    ['Invisible Woman', 'female', 1961],\n",
    "    ['Storm', 'female', 1975],\n",
    "    ['Namor', 'male', 1939],\n",
    "    ['Hawkeye', 'male', 1964],\n",
    "    ['Daredevil', 'male', 1964],\n",
    "    ['Doctor Strange', 'male', 1963],\n",
    "    ['Hank Pym', 'male', 1962],\n",
    "    ['Scarlet Witch', 'female', 1964],\n",
    "    ['Wasp', 'female', 1963],\n",
    "    ['Black Widow', 'female', 1964],\n",
    "    ['Vision', 'male', 1968]\n",
    "]"
   ]
  },
  {
   "cell_type": "code",
   "execution_count": 4,
   "metadata": {},
   "outputs": [
    {
     "name": "stdout",
     "output_type": "stream",
     "text": [
      "                   0       1     2\n",
      "0         Spider-Man    male  1962\n",
      "1    Captain America    male  1941\n",
      "2          Wolverine    male  1974\n",
      "3           Iron Man    male  1963\n",
      "4               Thor    male  1963\n",
      "5              Thing    male  1961\n",
      "6   Mister Fantastic    male  1961\n",
      "7               Hulk    male  1962\n",
      "8              Beast    male  1963\n",
      "9    Invisible Woman  female  1961\n",
      "10             Storm  female  1975\n",
      "11             Namor    male  1939\n",
      "12           Hawkeye    male  1964\n",
      "13         Daredevil    male  1964\n",
      "14    Doctor Strange    male  1963\n",
      "15          Hank Pym    male  1962\n",
      "16     Scarlet Witch  female  1964\n",
      "17              Wasp  female  1963\n",
      "18       Black Widow  female  1964\n",
      "19            Vision    male  1968\n"
     ]
    }
   ],
   "source": [
    "# your code goes here\n",
    "marvel_df = pd.DataFrame(marvel_data)\n",
    "\n",
    "print(marvel_df)"
   ]
  },
  {
   "cell_type": "markdown",
   "metadata": {},
   "source": [
    "\n",
    "\n",
    "\n",
    "### Add column names to the `marvel_df`\n",
    " "
   ]
  },
  {
   "cell_type": "code",
   "execution_count": 5,
   "metadata": {},
   "outputs": [
    {
     "name": "stdout",
     "output_type": "stream",
     "text": [
      "                Name  Gender  Year\n",
      "0         Spider-Man    male  1962\n",
      "1    Captain America    male  1941\n",
      "2          Wolverine    male  1974\n",
      "3           Iron Man    male  1963\n",
      "4               Thor    male  1963\n",
      "5              Thing    male  1961\n",
      "6   Mister Fantastic    male  1961\n",
      "7               Hulk    male  1962\n",
      "8              Beast    male  1963\n",
      "9    Invisible Woman  female  1961\n",
      "10             Storm  female  1975\n",
      "11             Namor    male  1939\n",
      "12           Hawkeye    male  1964\n",
      "13         Daredevil    male  1964\n",
      "14    Doctor Strange    male  1963\n",
      "15          Hank Pym    male  1962\n",
      "16     Scarlet Witch  female  1964\n",
      "17              Wasp  female  1963\n",
      "18       Black Widow  female  1964\n",
      "19            Vision    male  1968\n"
     ]
    }
   ],
   "source": [
    "# your code goes here\n",
    "marvel_df = pd.DataFrame(marvel_data, columns=['Name', 'Gender', 'Year'])\n",
    "\n",
    "print(marvel_df)"
   ]
  },
  {
   "cell_type": "markdown",
   "metadata": {},
   "source": [
    "\n",
    "\n",
    "### Add index names to the `marvel_df` (use the character name as index)\n"
   ]
  },
  {
   "cell_type": "code",
   "execution_count": 6,
   "metadata": {},
   "outputs": [
    {
     "name": "stdout",
     "output_type": "stream",
     "text": [
      "                  Gender  Year\n",
      "Name                          \n",
      "Spider-Man          male  1962\n",
      "Captain America     male  1941\n",
      "Wolverine           male  1974\n",
      "Iron Man            male  1963\n",
      "Thor                male  1963\n",
      "Thing               male  1961\n",
      "Mister Fantastic    male  1961\n",
      "Hulk                male  1962\n",
      "Beast               male  1963\n",
      "Invisible Woman   female  1961\n",
      "Storm             female  1975\n",
      "Namor               male  1939\n",
      "Hawkeye             male  1964\n",
      "Daredevil           male  1964\n",
      "Doctor Strange      male  1963\n",
      "Hank Pym            male  1962\n",
      "Scarlet Witch     female  1964\n",
      "Wasp              female  1963\n",
      "Black Widow       female  1964\n",
      "Vision              male  1968\n"
     ]
    }
   ],
   "source": [
    "# your code goes here\n",
    "marvel_df = marvel_df.set_index('Name')\n",
    "\n",
    "print(marvel_df)"
   ]
  },
  {
   "cell_type": "markdown",
   "metadata": {},
   "source": [
    "\n",
    "\n",
    "### Drop the name column as it's now the index"
   ]
  },
  {
   "cell_type": "code",
   "execution_count": 9,
   "metadata": {},
   "outputs": [
    {
     "name": "stdout",
     "output_type": "stream",
     "text": [
      "                  Gender  Year\n",
      "Name                          \n",
      "Spider-Man          male  1962\n",
      "Captain America     male  1941\n",
      "Wolverine           male  1974\n",
      "Iron Man            male  1963\n",
      "Thor                male  1963\n",
      "Thing               male  1961\n",
      "Mister Fantastic    male  1961\n",
      "Hulk                male  1962\n",
      "Beast               male  1963\n",
      "Invisible Woman   female  1961\n",
      "Storm             female  1975\n",
      "Namor               male  1939\n",
      "Hawkeye             male  1964\n",
      "Daredevil           male  1964\n",
      "Doctor Strange      male  1963\n",
      "Hank Pym            male  1962\n",
      "Scarlet Witch     female  1964\n",
      "Wasp              female  1963\n",
      "Black Widow       female  1964\n",
      "Vision              male  1968\n"
     ]
    }
   ],
   "source": [
    "# your code goes here\n",
    "\n",
    "print(marvel_df)"
   ]
  },
  {
   "cell_type": "markdown",
   "metadata": {},
   "source": [
    "\n",
    "\n",
    "### Drop 'Namor' and 'Hank Pym' rows\n"
   ]
  },
  {
   "cell_type": "code",
   "execution_count": 10,
   "metadata": {},
   "outputs": [
    {
     "name": "stdout",
     "output_type": "stream",
     "text": [
      "                  Gender  Year\n",
      "Name                          \n",
      "Spider-Man          male  1962\n",
      "Captain America     male  1941\n",
      "Wolverine           male  1974\n",
      "Iron Man            male  1963\n",
      "Thor                male  1963\n",
      "Thing               male  1961\n",
      "Mister Fantastic    male  1961\n",
      "Hulk                male  1962\n",
      "Beast               male  1963\n",
      "Invisible Woman   female  1961\n",
      "Storm             female  1975\n",
      "Hawkeye             male  1964\n",
      "Daredevil           male  1964\n",
      "Doctor Strange      male  1963\n",
      "Scarlet Witch     female  1964\n",
      "Wasp              female  1963\n",
      "Black Widow       female  1964\n",
      "Vision              male  1968\n"
     ]
    }
   ],
   "source": [
    "# your code goes here\n",
    "marvel_df = marvel_df.drop(['Namor', 'Hank Pym'])\n",
    "\n",
    "print(marvel_df)"
   ]
  },
  {
   "cell_type": "markdown",
   "metadata": {},
   "source": [
    "\n",
    "\n",
    "## DataFrame selection, slicing and indexation"
   ]
  },
  {
   "cell_type": "markdown",
   "metadata": {},
   "source": [
    "### Show the first 5 elements on `marvel_df`\n",
    " "
   ]
  },
  {
   "cell_type": "code",
   "execution_count": 11,
   "metadata": {},
   "outputs": [
    {
     "data": {
      "text/html": [
       "<div>\n",
       "<style scoped>\n",
       "    .dataframe tbody tr th:only-of-type {\n",
       "        vertical-align: middle;\n",
       "    }\n",
       "\n",
       "    .dataframe tbody tr th {\n",
       "        vertical-align: top;\n",
       "    }\n",
       "\n",
       "    .dataframe thead th {\n",
       "        text-align: right;\n",
       "    }\n",
       "</style>\n",
       "<table border=\"1\" class=\"dataframe\">\n",
       "  <thead>\n",
       "    <tr style=\"text-align: right;\">\n",
       "      <th></th>\n",
       "      <th>Gender</th>\n",
       "      <th>Year</th>\n",
       "    </tr>\n",
       "    <tr>\n",
       "      <th>Name</th>\n",
       "      <th></th>\n",
       "      <th></th>\n",
       "    </tr>\n",
       "  </thead>\n",
       "  <tbody>\n",
       "    <tr>\n",
       "      <th>Spider-Man</th>\n",
       "      <td>male</td>\n",
       "      <td>1962</td>\n",
       "    </tr>\n",
       "    <tr>\n",
       "      <th>Captain America</th>\n",
       "      <td>male</td>\n",
       "      <td>1941</td>\n",
       "    </tr>\n",
       "    <tr>\n",
       "      <th>Wolverine</th>\n",
       "      <td>male</td>\n",
       "      <td>1974</td>\n",
       "    </tr>\n",
       "    <tr>\n",
       "      <th>Iron Man</th>\n",
       "      <td>male</td>\n",
       "      <td>1963</td>\n",
       "    </tr>\n",
       "    <tr>\n",
       "      <th>Thor</th>\n",
       "      <td>male</td>\n",
       "      <td>1963</td>\n",
       "    </tr>\n",
       "  </tbody>\n",
       "</table>\n",
       "</div>"
      ],
      "text/plain": [
       "                Gender  Year\n",
       "Name                        \n",
       "Spider-Man        male  1962\n",
       "Captain America   male  1941\n",
       "Wolverine         male  1974\n",
       "Iron Man          male  1963\n",
       "Thor              male  1963"
      ]
     },
     "execution_count": 11,
     "metadata": {},
     "output_type": "execute_result"
    }
   ],
   "source": [
    "# your code goes here\n",
    "marvel_df.head()"
   ]
  },
  {
   "cell_type": "markdown",
   "metadata": {},
   "source": [
    "\n",
    "\n",
    "### Show the last 5 elements on `marvel_df`\n"
   ]
  },
  {
   "cell_type": "code",
   "execution_count": 12,
   "metadata": {},
   "outputs": [
    {
     "data": {
      "text/html": [
       "<div>\n",
       "<style scoped>\n",
       "    .dataframe tbody tr th:only-of-type {\n",
       "        vertical-align: middle;\n",
       "    }\n",
       "\n",
       "    .dataframe tbody tr th {\n",
       "        vertical-align: top;\n",
       "    }\n",
       "\n",
       "    .dataframe thead th {\n",
       "        text-align: right;\n",
       "    }\n",
       "</style>\n",
       "<table border=\"1\" class=\"dataframe\">\n",
       "  <thead>\n",
       "    <tr style=\"text-align: right;\">\n",
       "      <th></th>\n",
       "      <th>Gender</th>\n",
       "      <th>Year</th>\n",
       "    </tr>\n",
       "    <tr>\n",
       "      <th>Name</th>\n",
       "      <th></th>\n",
       "      <th></th>\n",
       "    </tr>\n",
       "  </thead>\n",
       "  <tbody>\n",
       "    <tr>\n",
       "      <th>Doctor Strange</th>\n",
       "      <td>male</td>\n",
       "      <td>1963</td>\n",
       "    </tr>\n",
       "    <tr>\n",
       "      <th>Scarlet Witch</th>\n",
       "      <td>female</td>\n",
       "      <td>1964</td>\n",
       "    </tr>\n",
       "    <tr>\n",
       "      <th>Wasp</th>\n",
       "      <td>female</td>\n",
       "      <td>1963</td>\n",
       "    </tr>\n",
       "    <tr>\n",
       "      <th>Black Widow</th>\n",
       "      <td>female</td>\n",
       "      <td>1964</td>\n",
       "    </tr>\n",
       "    <tr>\n",
       "      <th>Vision</th>\n",
       "      <td>male</td>\n",
       "      <td>1968</td>\n",
       "    </tr>\n",
       "  </tbody>\n",
       "</table>\n",
       "</div>"
      ],
      "text/plain": [
       "                Gender  Year\n",
       "Name                        \n",
       "Doctor Strange    male  1963\n",
       "Scarlet Witch   female  1964\n",
       "Wasp            female  1963\n",
       "Black Widow     female  1964\n",
       "Vision            male  1968"
      ]
     },
     "execution_count": 12,
     "metadata": {},
     "output_type": "execute_result"
    }
   ],
   "source": [
    "# your code goes here\n",
    "marvel_df.tail()"
   ]
  },
  {
   "cell_type": "markdown",
   "metadata": {},
   "source": [
    "\n",
    "\n",
    "### Show just the sex of the first 5 elements on `marvel_df`"
   ]
  },
  {
   "cell_type": "code",
   "execution_count": 13,
   "metadata": {},
   "outputs": [
    {
     "data": {
      "text/plain": [
       "Name\n",
       "Spider-Man         male\n",
       "Captain America    male\n",
       "Wolverine          male\n",
       "Iron Man           male\n",
       "Thor               male\n",
       "Name: Gender, dtype: object"
      ]
     },
     "execution_count": 13,
     "metadata": {},
     "output_type": "execute_result"
    }
   ],
   "source": [
    "# your code goes here\n",
    "marvel_df.head(5)['Gender']"
   ]
  },
  {
   "cell_type": "markdown",
   "metadata": {},
   "source": [
    "\n",
    "\n",
    "### Show the first_appearance of all middle elements on `marvel_df` "
   ]
  },
  {
   "cell_type": "code",
   "execution_count": 14,
   "metadata": {},
   "outputs": [
    {
     "name": "stdout",
     "output_type": "stream",
     "text": [
      "                 Gender  Year\n",
      "Name                         \n",
      "Invisible Woman  female  1961\n",
      "Storm            female  1975\n",
      "Hawkeye            male  1964\n"
     ]
    }
   ],
   "source": [
    "# your code goes here\n",
    "mid_items_df = marvel_df.iloc[9:12]\n",
    "print(mid_items_df)"
   ]
  },
  {
   "cell_type": "markdown",
   "metadata": {},
   "source": [
    "\n",
    "\n",
    "\n",
    "### Show the first and last elements on `marvel_df`\n"
   ]
  },
  {
   "cell_type": "code",
   "execution_count": 15,
   "metadata": {},
   "outputs": [
    {
     "name": "stdout",
     "output_type": "stream",
     "text": [
      "           Gender  Year\n",
      "Name                   \n",
      "Spider-Man   male  1962\n",
      "Vision       male  1968\n"
     ]
    }
   ],
   "source": [
    "# your code goes here\n",
    "var1 = pd.concat([marvel_df.head(1), marvel_df.tail(1)])\n",
    "print(var1)"
   ]
  },
  {
   "cell_type": "markdown",
   "metadata": {},
   "source": [
    "\n",
    "\n",
    "## DataFrame manipulation and operations"
   ]
  },
  {
   "cell_type": "markdown",
   "metadata": {},
   "source": [
    "### Modify the `first_appearance` of 'Vision' to year 1964"
   ]
  },
  {
   "cell_type": "code",
   "execution_count": 19,
   "metadata": {},
   "outputs": [
    {
     "name": "stdout",
     "output_type": "stream",
     "text": [
      "                  Gender  Year  years_since\n",
      "Name                                       \n",
      "Spider-Man          male  1962           62\n",
      "Captain America     male  1941           83\n",
      "Wolverine           male  1974           50\n",
      "Iron Man            male  1963           61\n",
      "Thor                male  1963           61\n",
      "Thing               male  1961           63\n",
      "Mister Fantastic    male  1961           63\n",
      "Hulk                male  1962           62\n",
      "Beast               male  1963           61\n",
      "Invisible Woman   female  1961           63\n",
      "Storm             female  1975           49\n",
      "Hawkeye             male  1964           60\n",
      "Daredevil           male  1964           60\n",
      "Doctor Strange      male  1963           61\n",
      "Scarlet Witch     female  1964           60\n",
      "Wasp              female  1963           61\n",
      "Black Widow       female  1964           60\n",
      "Vision              male  1964           56\n"
     ]
    }
   ],
   "source": [
    "# your code goes here\n",
    "marvel_df.loc['Vision', 'Year'] = 1964\n",
    "\n",
    "print(marvel_df)"
   ]
  },
  {
   "cell_type": "markdown",
   "metadata": {},
   "source": [
    "\n",
    "\n",
    "### Add a new column to `marvel_df` called 'years_since' with the years since `first_appearance`\n"
   ]
  },
  {
   "cell_type": "code",
   "execution_count": 18,
   "metadata": {},
   "outputs": [
    {
     "name": "stdout",
     "output_type": "stream",
     "text": [
      "                  Gender  Year  years_since\n",
      "Name                                       \n",
      "Spider-Man          male  1962           62\n",
      "Captain America     male  1941           83\n",
      "Wolverine           male  1974           50\n",
      "Iron Man            male  1963           61\n",
      "Thor                male  1963           61\n",
      "Thing               male  1961           63\n",
      "Mister Fantastic    male  1961           63\n",
      "Hulk                male  1962           62\n",
      "Beast               male  1963           61\n",
      "Invisible Woman   female  1961           63\n",
      "Storm             female  1975           49\n",
      "Hawkeye             male  1964           60\n",
      "Daredevil           male  1964           60\n",
      "Doctor Strange      male  1963           61\n",
      "Scarlet Witch     female  1964           60\n",
      "Wasp              female  1963           61\n",
      "Black Widow       female  1964           60\n",
      "Vision              male  1968           56\n"
     ]
    }
   ],
   "source": [
    "# your code goes here\n",
    "marvel_df['years_since'] = datetime.now().year - marvel_df['Year']\n",
    "\n",
    "print(marvel_df)"
   ]
  },
  {
   "cell_type": "markdown",
   "metadata": {},
   "source": [
    "\n",
    "\n",
    "\n",
    "## DataFrame boolean arrays (also called masks)"
   ]
  },
  {
   "cell_type": "markdown",
   "metadata": {},
   "source": [
    "### Given the `marvel_df` pandas DataFrame, make a mask showing the female characters\n"
   ]
  },
  {
   "cell_type": "code",
   "execution_count": 20,
   "metadata": {},
   "outputs": [
    {
     "name": "stdout",
     "output_type": "stream",
     "text": [
      "Name\n",
      "Spider-Man          False\n",
      "Captain America     False\n",
      "Wolverine           False\n",
      "Iron Man            False\n",
      "Thor                False\n",
      "Thing               False\n",
      "Mister Fantastic    False\n",
      "Hulk                False\n",
      "Beast               False\n",
      "Invisible Woman      True\n",
      "Storm                True\n",
      "Hawkeye             False\n",
      "Daredevil           False\n",
      "Doctor Strange      False\n",
      "Scarlet Witch        True\n",
      "Wasp                 True\n",
      "Black Widow          True\n",
      "Vision              False\n",
      "Name: Gender, dtype: bool\n"
     ]
    }
   ],
   "source": [
    "# your code goes here\n",
    "females = marvel_df['Gender'] == 'female'\n",
    "print(females)"
   ]
  },
  {
   "cell_type": "markdown",
   "metadata": {},
   "source": [
    "\n",
    "\n",
    "### Given the `marvel_df` pandas DataFrame, get the male characters\n"
   ]
  },
  {
   "cell_type": "code",
   "execution_count": 21,
   "metadata": {},
   "outputs": [
    {
     "name": "stdout",
     "output_type": "stream",
     "text": [
      "Name\n",
      "Spider-Man           True\n",
      "Captain America      True\n",
      "Wolverine            True\n",
      "Iron Man             True\n",
      "Thor                 True\n",
      "Thing                True\n",
      "Mister Fantastic     True\n",
      "Hulk                 True\n",
      "Beast                True\n",
      "Invisible Woman     False\n",
      "Storm               False\n",
      "Hawkeye              True\n",
      "Daredevil            True\n",
      "Doctor Strange       True\n",
      "Scarlet Witch       False\n",
      "Wasp                False\n",
      "Black Widow         False\n",
      "Vision               True\n",
      "Name: Gender, dtype: bool\n"
     ]
    }
   ],
   "source": [
    "# your code goes here\n",
    "males = marvel_df['Gender'] == 'male'\n",
    "print(males)"
   ]
  },
  {
   "cell_type": "markdown",
   "metadata": {},
   "source": [
    "\n",
    "\n",
    "### Given the `marvel_df` pandas DataFrame, get the characters with `first_appearance` after 1970\n"
   ]
  },
  {
   "cell_type": "code",
   "execution_count": 30,
   "metadata": {},
   "outputs": [
    {
     "name": "stdout",
     "output_type": "stream",
     "text": [
      "           Gender  Year  years_since\n",
      "Name                                \n",
      "Wolverine    male  1974           50\n",
      "Storm      female  1975           49\n"
     ]
    }
   ],
   "source": [
    "# your code goes here\n",
    "var1 = marvel_df[marvel_df['Year'] > 1970]\n",
    "\n",
    "print(var1)"
   ]
  },
  {
   "cell_type": "markdown",
   "metadata": {},
   "source": [
    "\n",
    "\n",
    "\n",
    "### Given the `marvel_df` pandas DataFrame, get the female characters with `first_appearance` after 1970"
   ]
  },
  {
   "cell_type": "code",
   "execution_count": 28,
   "metadata": {},
   "outputs": [
    {
     "name": "stdout",
     "output_type": "stream",
     "text": [
      "       Gender  Year  years_since\n",
      "Name                            \n",
      "Storm  female  1975           49\n"
     ]
    }
   ],
   "source": [
    "# your code goes here\n",
    "var2 = marvel_df[(marvel_df['Gender'] == 'female') & (marvel_df['Year'] > 1970)]\n",
    "print(var2)"
   ]
  },
  {
   "cell_type": "markdown",
   "metadata": {},
   "source": [
    "\n",
    "\n",
    "## DataFrame summary statistics"
   ]
  },
  {
   "cell_type": "markdown",
   "metadata": {},
   "source": [
    "### Show basic statistics of `marvel_df`"
   ]
  },
  {
   "cell_type": "code",
   "execution_count": 31,
   "metadata": {},
   "outputs": [
    {
     "data": {
      "text/html": [
       "<div>\n",
       "<style scoped>\n",
       "    .dataframe tbody tr th:only-of-type {\n",
       "        vertical-align: middle;\n",
       "    }\n",
       "\n",
       "    .dataframe tbody tr th {\n",
       "        vertical-align: top;\n",
       "    }\n",
       "\n",
       "    .dataframe thead th {\n",
       "        text-align: right;\n",
       "    }\n",
       "</style>\n",
       "<table border=\"1\" class=\"dataframe\">\n",
       "  <thead>\n",
       "    <tr style=\"text-align: right;\">\n",
       "      <th></th>\n",
       "      <th>Year</th>\n",
       "      <th>years_since</th>\n",
       "    </tr>\n",
       "  </thead>\n",
       "  <tbody>\n",
       "    <tr>\n",
       "      <th>count</th>\n",
       "      <td>18.000000</td>\n",
       "      <td>18.000000</td>\n",
       "    </tr>\n",
       "    <tr>\n",
       "      <th>mean</th>\n",
       "      <td>1962.888889</td>\n",
       "      <td>60.888889</td>\n",
       "    </tr>\n",
       "    <tr>\n",
       "      <th>std</th>\n",
       "      <td>6.720372</td>\n",
       "      <td>6.824600</td>\n",
       "    </tr>\n",
       "    <tr>\n",
       "      <th>min</th>\n",
       "      <td>1941.000000</td>\n",
       "      <td>49.000000</td>\n",
       "    </tr>\n",
       "    <tr>\n",
       "      <th>25%</th>\n",
       "      <td>1962.000000</td>\n",
       "      <td>60.000000</td>\n",
       "    </tr>\n",
       "    <tr>\n",
       "      <th>50%</th>\n",
       "      <td>1963.000000</td>\n",
       "      <td>61.000000</td>\n",
       "    </tr>\n",
       "    <tr>\n",
       "      <th>75%</th>\n",
       "      <td>1964.000000</td>\n",
       "      <td>62.000000</td>\n",
       "    </tr>\n",
       "    <tr>\n",
       "      <th>max</th>\n",
       "      <td>1975.000000</td>\n",
       "      <td>83.000000</td>\n",
       "    </tr>\n",
       "  </tbody>\n",
       "</table>\n",
       "</div>"
      ],
      "text/plain": [
       "              Year  years_since\n",
       "count    18.000000    18.000000\n",
       "mean   1962.888889    60.888889\n",
       "std       6.720372     6.824600\n",
       "min    1941.000000    49.000000\n",
       "25%    1962.000000    60.000000\n",
       "50%    1963.000000    61.000000\n",
       "75%    1964.000000    62.000000\n",
       "max    1975.000000    83.000000"
      ]
     },
     "execution_count": 31,
     "metadata": {},
     "output_type": "execute_result"
    }
   ],
   "source": [
    "# your code goes here\n",
    "marvel_df.describe()"
   ]
  },
  {
   "cell_type": "markdown",
   "metadata": {},
   "source": [
    "\n",
    "\n",
    "### Given the `marvel_df` pandas DataFrame, show the mean value of `first_appearance`"
   ]
  },
  {
   "cell_type": "code",
   "execution_count": 33,
   "metadata": {},
   "outputs": [
    {
     "name": "stdout",
     "output_type": "stream",
     "text": [
      "1962.888888888889\n"
     ]
    }
   ],
   "source": [
    "# your code goes here\n",
    "average = marvel_df['Year'].mean()\n",
    "print(average)"
   ]
  },
  {
   "cell_type": "markdown",
   "metadata": {},
   "source": [
    "\n",
    "\n",
    "### Given the `marvel_df` pandas DataFrame, show the min value of `first_appearance`\n"
   ]
  },
  {
   "cell_type": "code",
   "execution_count": 34,
   "metadata": {},
   "outputs": [
    {
     "name": "stdout",
     "output_type": "stream",
     "text": [
      "1941\n"
     ]
    }
   ],
   "source": [
    "# your code goes here\n",
    "minimum = marvel_df['Year'].min()\n",
    "print(minimum)"
   ]
  },
  {
   "cell_type": "markdown",
   "metadata": {},
   "source": [
    "\n",
    "\n",
    "\n",
    "### Given the `marvel_df` pandas DataFrame, get the characters with the min value of `first_appearance`"
   ]
  },
  {
   "cell_type": "code",
   "execution_count": 37,
   "metadata": {},
   "outputs": [
    {
     "name": "stdout",
     "output_type": "stream",
     "text": [
      "                Gender  Year  years_since\n",
      "Name                                     \n",
      "Captain America   male  1941           83\n"
     ]
    }
   ],
   "source": [
    "# your code goes here\n",
    "min_value = marvel_df['Year'].min()\n",
    "item = marvel_df[marvel_df['Year'] == min_value]\n",
    "\n",
    "print(item)"
   ]
  },
  {
   "cell_type": "markdown",
   "metadata": {},
   "source": [
    "\n",
    "\n",
    "## DataFrame basic plottings"
   ]
  },
  {
   "cell_type": "markdown",
   "metadata": {},
   "source": [
    "### Reset index names of `marvel_df`\n"
   ]
  },
  {
   "cell_type": "code",
   "execution_count": 38,
   "metadata": {},
   "outputs": [
    {
     "name": "stdout",
     "output_type": "stream",
     "text": [
      "                Name  Gender  Year  years_since\n",
      "0         Spider-Man    male  1962           62\n",
      "1    Captain America    male  1941           83\n",
      "2          Wolverine    male  1974           50\n",
      "3           Iron Man    male  1963           61\n",
      "4               Thor    male  1963           61\n",
      "5              Thing    male  1961           63\n",
      "6   Mister Fantastic    male  1961           63\n",
      "7               Hulk    male  1962           62\n",
      "8              Beast    male  1963           61\n",
      "9    Invisible Woman  female  1961           63\n",
      "10             Storm  female  1975           49\n",
      "11           Hawkeye    male  1964           60\n",
      "12         Daredevil    male  1964           60\n",
      "13    Doctor Strange    male  1963           61\n",
      "14     Scarlet Witch  female  1964           60\n",
      "15              Wasp  female  1963           61\n",
      "16       Black Widow  female  1964           60\n",
      "17            Vision    male  1964           56\n"
     ]
    }
   ],
   "source": [
    "# your code goes here\n",
    "reset = marvel_df.reset_index()\n",
    "\n",
    "print(reset)"
   ]
  },
  {
   "cell_type": "markdown",
   "metadata": {},
   "source": [
    "\n",
    "\n",
    "### Plot the values of `first_appearance`\n"
   ]
  },
  {
   "cell_type": "code",
   "execution_count": 39,
   "metadata": {},
   "outputs": [
    {
     "data": {
      "image/png": "[encoded data removed]",
      "text/plain": [
       "<Figure size 640x480 with 1 Axes>"
      ]
     },
     "metadata": {},
     "output_type": "display_data"
    }
   ],
   "source": [
    "# your code goes here\n",
    "marvel_df['Year'].plot()\n",
    "plt.show()"
   ]
  },
  {
   "cell_type": "markdown",
   "metadata": {},
   "source": [
    "\n",
    "\n",
    "### Plot a histogram (plot.hist) with values of `first_appearance`\n"
   ]
  },
  {
   "cell_type": "code",
   "execution_count": 41,
   "metadata": {},
   "outputs": [
    {
     "data": {
      "text/plain": [
       "<Axes: >"
      ]
     },
     "execution_count": 41,
     "metadata": {},
     "output_type": "execute_result"
    },
    {
     "data": {
      "image/png": "[encoded data removed]",
      "text/plain": [
       "<Figure size 640x480 with 1 Axes>"
      ]
     },
     "metadata": {},
     "output_type": "display_data"
    }
   ],
   "source": [
    "# your code goes here\n",
    "marvel_df['Year'].hist()"
   ]
  },
  {
   "cell_type": "code",
   "execution_count": null,
   "metadata": {},
   "outputs": [],
   "source": []
  }
 ],
 "metadata": {
  "kernelspec": {
   "display_name": "Python 3 (ipykernel)",
   "language": "python",
   "name": "python3"
  },
  "language_info": {
   "codemirror_mode": {
    "name": "ipython",
    "version": 3
   },
   "file_extension": ".py",
   "mimetype": "text/x-python",
   "name": "python",
   "nbconvert_exporter": "python",
   "pygments_lexer": "ipython3",
   "version": "3.11.4"
  }
 },
 "nbformat": 4,
 "nbformat_minor": 4
}
